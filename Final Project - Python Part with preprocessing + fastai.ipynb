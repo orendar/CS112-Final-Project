{
 "cells": [
  {
   "cell_type": "code",
   "execution_count": 1,
   "metadata": {},
   "outputs": [],
   "source": [
    "%matplotlib inline\n",
    "%reload_ext autoreload\n",
    "%autoreload 2\n",
    "from fastai.structured import *\n",
    "from fastai.column_data import *\n",
    "np.set_printoptions(threshold=50, edgeitems=20)\n",
    "import pandas as pd\n",
    "import numpy as np\n",
    "np.random.seed(42)\n",
    "PATH = '/Users/orendar/Downloads/dataverse_files/'"
   ]
  },
  {
   "cell_type": "code",
   "execution_count": 2,
   "metadata": {},
   "outputs": [],
   "source": [
    "train_df = pd.read_csv(f'{PATH}train_raw.csv', index_col = 0)\n",
    "test_df = pd.read_csv(f'{PATH}test_raw.csv',  index_col = 0)"
   ]
  },
  {
   "cell_type": "code",
   "execution_count": 3,
   "metadata": {},
   "outputs": [
    {
     "data": {
      "text/html": [
       "<div>\n",
       "<style scoped>\n",
       "    .dataframe tbody tr th:only-of-type {\n",
       "        vertical-align: middle;\n",
       "    }\n",
       "\n",
       "    .dataframe tbody tr th {\n",
       "        vertical-align: top;\n",
       "    }\n",
       "\n",
       "    .dataframe thead th {\n",
       "        text-align: right;\n",
       "    }\n",
       "</style>\n",
       "<table border=\"1\" class=\"dataframe\">\n",
       "  <thead>\n",
       "    <tr style=\"text-align: right;\">\n",
       "      <th></th>\n",
       "      <th>1</th>\n",
       "      <th>2</th>\n",
       "      <th>3</th>\n",
       "      <th>4</th>\n",
       "      <th>5</th>\n",
       "    </tr>\n",
       "  </thead>\n",
       "  <tbody>\n",
       "    <tr>\n",
       "      <th>year</th>\n",
       "      <td>2002</td>\n",
       "      <td>2002</td>\n",
       "      <td>2002</td>\n",
       "      <td>2002</td>\n",
       "      <td>2002</td>\n",
       "    </tr>\n",
       "    <tr>\n",
       "      <th>camp.length</th>\n",
       "      <td>23</td>\n",
       "      <td>23</td>\n",
       "      <td>23</td>\n",
       "      <td>23</td>\n",
       "      <td>23</td>\n",
       "    </tr>\n",
       "    <tr>\n",
       "      <th>deminc</th>\n",
       "      <td>1</td>\n",
       "      <td>1</td>\n",
       "      <td>1</td>\n",
       "      <td>1</td>\n",
       "      <td>1</td>\n",
       "    </tr>\n",
       "    <tr>\n",
       "      <th>base.poll</th>\n",
       "      <td>45.7447</td>\n",
       "      <td>45.7447</td>\n",
       "      <td>45.7447</td>\n",
       "      <td>45.7447</td>\n",
       "      <td>45.7447</td>\n",
       "    </tr>\n",
       "    <tr>\n",
       "      <th>base.und</th>\n",
       "      <td>6</td>\n",
       "      <td>6</td>\n",
       "      <td>6</td>\n",
       "      <td>6</td>\n",
       "      <td>6</td>\n",
       "    </tr>\n",
       "    <tr>\n",
       "      <th>office</th>\n",
       "      <td>0</td>\n",
       "      <td>0</td>\n",
       "      <td>0</td>\n",
       "      <td>0</td>\n",
       "      <td>0</td>\n",
       "    </tr>\n",
       "    <tr>\n",
       "      <th>d.gone.neg</th>\n",
       "      <td>0</td>\n",
       "      <td>0</td>\n",
       "      <td>1</td>\n",
       "      <td>1</td>\n",
       "      <td>1</td>\n",
       "    </tr>\n",
       "    <tr>\n",
       "      <th>d.gone.neg.l1</th>\n",
       "      <td>0</td>\n",
       "      <td>0</td>\n",
       "      <td>1</td>\n",
       "      <td>1</td>\n",
       "      <td>1</td>\n",
       "    </tr>\n",
       "    <tr>\n",
       "      <th>d.gone.neg.l2</th>\n",
       "      <td>0</td>\n",
       "      <td>0</td>\n",
       "      <td>0</td>\n",
       "      <td>1</td>\n",
       "      <td>1</td>\n",
       "    </tr>\n",
       "    <tr>\n",
       "      <th>d.neg.frac.l3</th>\n",
       "      <td>0</td>\n",
       "      <td>0</td>\n",
       "      <td>0</td>\n",
       "      <td>0</td>\n",
       "      <td>0.0714286</td>\n",
       "    </tr>\n",
       "    <tr>\n",
       "      <th>week</th>\n",
       "      <td>-11</td>\n",
       "      <td>-10</td>\n",
       "      <td>-8</td>\n",
       "      <td>-7</td>\n",
       "      <td>-6</td>\n",
       "    </tr>\n",
       "    <tr>\n",
       "      <th>dem.polls.l1</th>\n",
       "      <td>45.7447</td>\n",
       "      <td>45.7447</td>\n",
       "      <td>48.5363</td>\n",
       "      <td>48.8636</td>\n",
       "      <td>48.8636</td>\n",
       "    </tr>\n",
       "    <tr>\n",
       "      <th>neg.rep.l1</th>\n",
       "      <td>0</td>\n",
       "      <td>0</td>\n",
       "      <td>0.197315</td>\n",
       "      <td>0.560819</td>\n",
       "      <td>0.571809</td>\n",
       "    </tr>\n",
       "    <tr>\n",
       "      <th>neg.rep.l2</th>\n",
       "      <td>0</td>\n",
       "      <td>0</td>\n",
       "      <td>0</td>\n",
       "      <td>0.197315</td>\n",
       "      <td>0.560819</td>\n",
       "    </tr>\n",
       "    <tr>\n",
       "      <th>r.neg.frac.l3</th>\n",
       "      <td>0.111111</td>\n",
       "      <td>0.1</td>\n",
       "      <td>0.0833333</td>\n",
       "      <td>0.0769231</td>\n",
       "      <td>0.142857</td>\n",
       "    </tr>\n",
       "    <tr>\n",
       "      <th>num.rep.l1</th>\n",
       "      <td>322</td>\n",
       "      <td>401</td>\n",
       "      <td>745</td>\n",
       "      <td>781</td>\n",
       "      <td>752</td>\n",
       "    </tr>\n",
       "    <tr>\n",
       "      <th>num.dem.l1</th>\n",
       "      <td>0</td>\n",
       "      <td>303</td>\n",
       "      <td>770</td>\n",
       "      <td>805</td>\n",
       "      <td>748</td>\n",
       "    </tr>\n",
       "    <tr>\n",
       "      <th>undother.l1</th>\n",
       "      <td>6</td>\n",
       "      <td>6</td>\n",
       "      <td>14.5</td>\n",
       "      <td>12</td>\n",
       "      <td>12</td>\n",
       "    </tr>\n",
       "    <tr>\n",
       "      <th>r.neg.frac.l2</th>\n",
       "      <td>0.1</td>\n",
       "      <td>0.0909091</td>\n",
       "      <td>0.0769231</td>\n",
       "      <td>0.142857</td>\n",
       "      <td>0.2</td>\n",
       "    </tr>\n",
       "    <tr>\n",
       "      <th>num.rep.l2</th>\n",
       "      <td>727</td>\n",
       "      <td>322</td>\n",
       "      <td>445</td>\n",
       "      <td>745</td>\n",
       "      <td>781</td>\n",
       "    </tr>\n",
       "    <tr>\n",
       "      <th>num.dem.l2</th>\n",
       "      <td>0</td>\n",
       "      <td>0</td>\n",
       "      <td>232</td>\n",
       "      <td>770</td>\n",
       "      <td>805</td>\n",
       "    </tr>\n",
       "    <tr>\n",
       "      <th>undother.l2</th>\n",
       "      <td>6</td>\n",
       "      <td>6</td>\n",
       "      <td>6</td>\n",
       "      <td>14.5</td>\n",
       "      <td>12</td>\n",
       "    </tr>\n",
       "    <tr>\n",
       "      <th>dem.contrib.l1</th>\n",
       "      <td>38350</td>\n",
       "      <td>58035</td>\n",
       "      <td>167280</td>\n",
       "      <td>389947</td>\n",
       "      <td>202734</td>\n",
       "    </tr>\n",
       "    <tr>\n",
       "      <th>dem.contrib.l2</th>\n",
       "      <td>126536</td>\n",
       "      <td>38350</td>\n",
       "      <td>67068.7</td>\n",
       "      <td>167280</td>\n",
       "      <td>389947</td>\n",
       "    </tr>\n",
       "    <tr>\n",
       "      <th>rep.contrib.l1</th>\n",
       "      <td>132545</td>\n",
       "      <td>522327</td>\n",
       "      <td>177739</td>\n",
       "      <td>543465</td>\n",
       "      <td>2.41531e+06</td>\n",
       "    </tr>\n",
       "    <tr>\n",
       "      <th>race</th>\n",
       "      <td>AL-1-2002</td>\n",
       "      <td>AL-1-2002</td>\n",
       "      <td>AL-1-2002</td>\n",
       "      <td>AL-1-2002</td>\n",
       "      <td>AL-1-2002</td>\n",
       "    </tr>\n",
       "    <tr>\n",
       "      <th>first.week</th>\n",
       "      <td>-22</td>\n",
       "      <td>-22</td>\n",
       "      <td>-22</td>\n",
       "      <td>-22</td>\n",
       "      <td>-22</td>\n",
       "    </tr>\n",
       "    <tr>\n",
       "      <th>num.dem</th>\n",
       "      <td>303</td>\n",
       "      <td>232</td>\n",
       "      <td>805</td>\n",
       "      <td>748</td>\n",
       "      <td>830</td>\n",
       "    </tr>\n",
       "    <tr>\n",
       "      <th>demprcnt</th>\n",
       "      <td>49.8837</td>\n",
       "      <td>49.8837</td>\n",
       "      <td>49.8837</td>\n",
       "      <td>49.8837</td>\n",
       "      <td>49.8837</td>\n",
       "    </tr>\n",
       "    <tr>\n",
       "      <th>d.neg.rec</th>\n",
       "      <td>0</td>\n",
       "      <td>0</td>\n",
       "      <td>2</td>\n",
       "      <td>3</td>\n",
       "      <td>4</td>\n",
       "    </tr>\n",
       "    <tr>\n",
       "      <th>rep.contrib.l2</th>\n",
       "      <td>102559</td>\n",
       "      <td>132545</td>\n",
       "      <td>138533</td>\n",
       "      <td>177739</td>\n",
       "      <td>543465</td>\n",
       "    </tr>\n",
       "    <tr>\n",
       "      <th>d.neg.dur</th>\n",
       "      <td>0</td>\n",
       "      <td>0</td>\n",
       "      <td>2</td>\n",
       "      <td>3</td>\n",
       "      <td>4</td>\n",
       "    </tr>\n",
       "    <tr>\n",
       "      <th>dem.polls.l2</th>\n",
       "      <td>45.7447</td>\n",
       "      <td>45.7447</td>\n",
       "      <td>45.7447</td>\n",
       "      <td>48.5363</td>\n",
       "      <td>48.8636</td>\n",
       "    </tr>\n",
       "    <tr>\n",
       "      <th>pos.prob.subset</th>\n",
       "      <td>True</td>\n",
       "      <td>True</td>\n",
       "      <td>True</td>\n",
       "      <td>True</td>\n",
       "      <td>True</td>\n",
       "    </tr>\n",
       "  </tbody>\n",
       "</table>\n",
       "</div>"
      ],
      "text/plain": [
       "                         1          2          3          4            5\n",
       "year                  2002       2002       2002       2002         2002\n",
       "camp.length             23         23         23         23           23\n",
       "deminc                   1          1          1          1            1\n",
       "base.poll          45.7447    45.7447    45.7447    45.7447      45.7447\n",
       "base.und                 6          6          6          6            6\n",
       "office                   0          0          0          0            0\n",
       "d.gone.neg               0          0          1          1            1\n",
       "d.gone.neg.l1            0          0          1          1            1\n",
       "d.gone.neg.l2            0          0          0          1            1\n",
       "d.neg.frac.l3            0          0          0          0    0.0714286\n",
       "week                   -11        -10         -8         -7           -6\n",
       "dem.polls.l1       45.7447    45.7447    48.5363    48.8636      48.8636\n",
       "neg.rep.l1               0          0   0.197315   0.560819     0.571809\n",
       "neg.rep.l2               0          0          0   0.197315     0.560819\n",
       "r.neg.frac.l3     0.111111        0.1  0.0833333  0.0769231     0.142857\n",
       "num.rep.l1             322        401        745        781          752\n",
       "num.dem.l1               0        303        770        805          748\n",
       "undother.l1              6          6       14.5         12           12\n",
       "r.neg.frac.l2          0.1  0.0909091  0.0769231   0.142857          0.2\n",
       "num.rep.l2             727        322        445        745          781\n",
       "num.dem.l2               0          0        232        770          805\n",
       "undother.l2              6          6          6       14.5           12\n",
       "dem.contrib.l1       38350      58035     167280     389947       202734\n",
       "dem.contrib.l2      126536      38350    67068.7     167280       389947\n",
       "rep.contrib.l1      132545     522327     177739     543465  2.41531e+06\n",
       "race             AL-1-2002  AL-1-2002  AL-1-2002  AL-1-2002    AL-1-2002\n",
       "first.week             -22        -22        -22        -22          -22\n",
       "num.dem                303        232        805        748          830\n",
       "demprcnt           49.8837    49.8837    49.8837    49.8837      49.8837\n",
       "d.neg.rec                0          0          2          3            4\n",
       "rep.contrib.l2      102559     132545     138533     177739       543465\n",
       "d.neg.dur                0          0          2          3            4\n",
       "dem.polls.l2       45.7447    45.7447    45.7447    48.5363      48.8636\n",
       "pos.prob.subset       True       True       True       True         True"
      ]
     },
     "execution_count": 3,
     "metadata": {},
     "output_type": "execute_result"
    }
   ],
   "source": [
    "train_df.head().T"
   ]
  },
  {
   "cell_type": "code",
   "execution_count": 4,
   "metadata": {},
   "outputs": [],
   "source": [
    "cat_features = [\"deminc\", \"d.gone.neg.l1\", \"d.gone.neg.l2\", \"year\",\n",
    "                \"office\", \"camp.length\", \"base.und\"]\n",
    "\n",
    "cont_features = [\"r.neg.frac.l2\", \"r.neg.frac.l3\", \"rep.contrib.l1\", \n",
    "                 \"rep.contrib.l2\", \"dem.contrib.l1\", \"dem.contrib.l2\", \"num.rep.l1\",\n",
    "                 \"num.rep.l2\", \"num.dem.l1\", \"num.dem.l2\", \"d.neg.frac.l3\", \"undother.l2\",\n",
    "                 \"undother.l1\", \"dem.polls.l1\", \"dem.polls.l2\",\n",
    "                \"neg.rep.l1\", \"neg.rep.l2\", \"base.poll\", \"week\"]\n",
    "\n",
    "target = \"d.gone.neg\""
   ]
  },
  {
   "cell_type": "code",
   "execution_count": 5,
   "metadata": {},
   "outputs": [],
   "source": [
    "train_df = train_df[cat_features+cont_features+[target]]\n",
    "test_df = test_df[cat_features+cont_features+[target]]\n",
    "\n",
    "for v in cat_features: train_df[v] = train_df[v].astype('category').cat.as_ordered()\n",
    "apply_cats(test_df, train_df)    \n",
    "\n",
    "for v in cont_features:\n",
    "    train_df[v] = train_df[v].astype('float32')\n",
    "    test_df[v] = test_df[v].astype('float32')\n",
    "\n",
    "x_train, y_train, nas, mapper = proc_df(train_df, target, do_scale=True)\n",
    "x_test, y_test, nas, mapper = proc_df(test_df, target, do_scale=True, mapper=mapper, na_dict=nas)\n",
    "\n",
    "for v in cat_features: x_train[v] = x_train[v].astype('category').cat.as_ordered()\n",
    "apply_cats(x_test, x_train)    \n",
    "\n",
    "for v in cont_features:\n",
    "    x_train[v] = x_train[v].astype('float32')\n",
    "    x_test[v] = x_test[v].astype('float32')"
   ]
  },
  {
   "cell_type": "code",
   "execution_count": 6,
   "metadata": {},
   "outputs": [
    {
     "data": {
      "text/plain": [
       "((287, 40), (863, 40), (1150, 40), (287,), (863,), (1150,))"
      ]
     },
     "execution_count": 6,
     "metadata": {},
     "output_type": "execute_result"
    }
   ],
   "source": [
    "x = pd.concat([x_test, x_train])\n",
    "y = np.int64(np.concatenate([y_test, y_train]))\n",
    "val_idx = list(range(len(x_test)))\n",
    "x_test.shape, x_train.shape, x.shape, y_test.shape, y_train.shape, y.shape"
   ]
  },
  {
   "cell_type": "code",
   "execution_count": 7,
   "metadata": {},
   "outputs": [],
   "source": [
    "md = ColumnarModelData.from_data_frame(PATH, val_idx, x, y, cat_flds=cat_features, bs=128, is_reg=False)"
   ]
  },
  {
   "cell_type": "code",
   "execution_count": 8,
   "metadata": {},
   "outputs": [
    {
     "data": {
      "text/plain": [
       "[('deminc', 3),\n",
       " ('d.gone.neg.l1', 3),\n",
       " ('d.gone.neg.l2', 3),\n",
       " ('year', 5),\n",
       " ('office', 3),\n",
       " ('camp.length', 23),\n",
       " ('base.und', 40)]"
      ]
     },
     "execution_count": 8,
     "metadata": {},
     "output_type": "execute_result"
    }
   ],
   "source": [
    "cat_sz = [(c, len(x[c].cat.categories)+1) for c in cat_features]; cat_sz"
   ]
  },
  {
   "cell_type": "code",
   "execution_count": 9,
   "metadata": {},
   "outputs": [
    {
     "data": {
      "text/plain": [
       "[(3, 20), (3, 20), (3, 20), (5, 20), (3, 20), (23, 20), (40, 20)]"
      ]
     },
     "execution_count": 9,
     "metadata": {},
     "output_type": "execute_result"
    }
   ],
   "source": [
    "emb_szs = [(c, max(20, (c+1)//2)) for _,c in cat_sz]; emb_szs"
   ]
  },
  {
   "cell_type": "code",
   "execution_count": 39,
   "metadata": {},
   "outputs": [],
   "source": [
    "m = md.get_learner(emb_szs, len(x.columns)-len(cat_features),\n",
    "                   0.5, 2, [1000,500], [0.3,0.4])\n",
    "\n",
    "lr = 4e-4\n",
    "wd = 1e-4"
   ]
  },
  {
   "cell_type": "code",
   "execution_count": 40,
   "metadata": {},
   "outputs": [
    {
     "data": {
      "application/vnd.jupyter.widget-view+json": {
       "model_id": "fe3110bcad7244a9ba15aec6cf3e3e7e",
       "version_major": 2,
       "version_minor": 0
      },
      "text/plain": [
       "HBox(children=(IntProgress(value=0, description='Epoch', max=15), HTML(value='')))"
      ]
     },
     "metadata": {},
     "output_type": "display_data"
    },
    {
     "name": "stdout",
     "output_type": "stream",
     "text": [
      "  0%|          | 0/7 [00:00<?, ?it/s, loss=0.465]        \n",
      "                                                 \r"
     ]
    },
    {
     "data": {
      "image/png": "[encoded data removed]",
      "text/plain": [
       "<Figure size 432x576 with 2 Axes>"
      ]
     },
     "metadata": {},
     "output_type": "display_data"
    }
   ],
   "source": [
    "m.lr_find2(start_lr=1e-5, end_lr=1e-3, wds=wd)\n",
    "m.sched.plot()"
   ]
  },
  {
   "cell_type": "code",
   "execution_count": 41,
   "metadata": {},
   "outputs": [
    {
     "data": {
      "application/vnd.jupyter.widget-view+json": {
       "model_id": "2d6251d01caf4f129e5d210f131b9be1",
       "version_major": 2,
       "version_minor": 0
      },
      "text/plain": [
       "HBox(children=(IntProgress(value=0, description='Epoch', max=30), HTML(value='')))"
      ]
     },
     "metadata": {},
     "output_type": "display_data"
    },
    {
     "name": "stdout",
     "output_type": "stream",
     "text": [
      "epoch      trn_loss   val_loss   accuracy                \n",
      "    0      0.691454   0.539653   0.804878  \n",
      "    1      0.608836   0.464512   0.832753                \n",
      "    2      0.562469   0.417556   0.832753                \n",
      "    3      0.52816    0.394661   0.839721                \n",
      "    4      0.504784   0.375498   0.843206                \n",
      "    5      0.484043   0.358654   0.853659                \n",
      "    6      0.465939   0.342016   0.867596                \n",
      "    7      0.452849   0.329465   0.874564                \n",
      "    8      0.438484   0.321535   0.881533                \n",
      "    9      0.423273   0.310303   0.885017                \n",
      "    10     0.410991   0.299969   0.885017                \n",
      "    11     0.398601   0.29194    0.885017                \n",
      "    12     0.387471   0.28933    0.885017                \n",
      "    13     0.376894   0.293863   0.878049                \n",
      "    14     0.367221   0.289421   0.881533                \n",
      "    15     0.358276   0.285734   0.885017                \n",
      "    16     0.351246   0.284811   0.878049                \n",
      "    17     0.345289   0.283685   0.881533                \n",
      "    18     0.339364   0.285513   0.881533                \n",
      "    19     0.331918   0.285056   0.878049                \n",
      "    20     0.327019   0.282831   0.878049                \n",
      "    21     0.323393   0.281361   0.885017                \n",
      "    22     0.31756    0.282174   0.885017                \n",
      "    23     0.31334    0.282916   0.881533                \n",
      "    24     0.308454   0.282682   0.881533                \n",
      "    25     0.30515    0.282503   0.885017                \n",
      "    26     0.302136   0.282981   0.881533                \n",
      "    27     0.299004   0.282788   0.881533                \n",
      "    28     0.296642   0.282758   0.881533                \n",
      "    29     0.292794   0.282717   0.881533                \n",
      "\n"
     ]
    },
    {
     "data": {
      "text/plain": [
       "[array([0.28272]), 0.8815331010452961]"
      ]
     },
     "execution_count": 41,
     "metadata": {},
     "output_type": "execute_result"
    }
   ],
   "source": [
    "m.fit(lr, 1, wds=wd, cycle_len=30, use_clr_beta=(3, 10, 0.95, 0.85), metrics=[accuracy])"
   ]
  },
  {
   "cell_type": "code",
   "execution_count": 42,
   "metadata": {},
   "outputs": [],
   "source": [
    "from sklearn.metrics import *\n",
    "def softmax(preds): return [np.exp(pred) / np.exp(pred).sum() for pred in preds]\n",
    "def rmse(preds): return mean_squared_error(y_test, preds)**.5\n",
    "def auroc(preds): return roc_auc_score(y_test, preds)\n",
    "def acc(preds): return accuracy_score(y_test, preds)\n",
    "def logloss(preds): return log_loss(y_test, preds)"
   ]
  },
  {
   "cell_type": "code",
   "execution_count": 43,
   "metadata": {},
   "outputs": [],
   "source": [
    "preds = m.predict()\n",
    "m_preds_pos = np.array([softmax(preds)[i][1] for i in range(len(preds))])\n",
    "m_clas = m_preds_pos >= 0.5"
   ]
  },
  {
   "cell_type": "code",
   "execution_count": 44,
   "metadata": {},
   "outputs": [
    {
     "data": {
      "text/plain": [
       "(0.8815331010452961,\n",
       " 0.29331535233677564,\n",
       " 0.9418654631420588,\n",
       " 0.282717441177413)"
      ]
     },
     "execution_count": 44,
     "metadata": {},
     "output_type": "execute_result"
    }
   ],
   "source": [
    "acc(m_clas), rmse(m_preds_pos), auroc(m_preds_pos), logloss(m_preds_pos)"
   ]
  },
  {
   "cell_type": "code",
   "execution_count": 45,
   "metadata": {},
   "outputs": [
    {
     "data": {
      "text/plain": [
       "(0.8780487804878049,\n",
       " 0.2876762114723443,\n",
       " 0.9508918977004083,\n",
       " 0.27043877222265905)"
      ]
     },
     "execution_count": 45,
     "metadata": {},
     "output_type": "execute_result"
    }
   ],
   "source": [
    "(0.8780487804878049,\n",
    " 0.2876762114723443,\n",
    " 0.9508918977004083,\n",
    " 0.27043877222265905)"
   ]
  },
  {
   "cell_type": "code",
   "execution_count": null,
   "metadata": {},
   "outputs": [],
   "source": []
  }
 ],
 "metadata": {
  "kernelspec": {
   "display_name": "Python 3",
   "language": "python",
   "name": "python3"
  },
  "language_info": {
   "codemirror_mode": {
    "name": "ipython",
    "version": 3
   },
   "file_extension": ".py",
   "mimetype": "text/x-python",
   "name": "python",
   "nbconvert_exporter": "python",
   "pygments_lexer": "ipython3",
   "version": "3.6.4"
  }
 },
 "nbformat": 4,
 "nbformat_minor": 2
}
